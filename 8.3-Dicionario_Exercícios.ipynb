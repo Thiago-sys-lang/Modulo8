{
 "cells": [
  {
   "cell_type": "markdown",
   "id": "0d5035b5",
   "metadata": {},
   "source": [
    "# Dicionários\n",
    "\n",
    "## Aula 8.3"
   ]
  },
  {
   "cell_type": "markdown",
   "id": "0bdece85",
   "metadata": {},
   "source": [
    "### Q1. \n",
    "\n",
    "Escreva uma função em Python chamada ```contagem_caracteres``` que recebe uma string como parâmetro e retorna um dicionário onde as chaves são os caracteres presentes na string e os valores são a contagem de cada caractere.\n"
   ]
  },
  {
   "cell_type": "code",
   "execution_count": null,
   "id": "09a9845d",
   "metadata": {},
   "outputs": [],
   "source": [
    "# Implemente aqui a função contagem_caracteres\n",
    "def contagem_caracteres(s):\n",
    "    contagem = {}\n",
    "    for char in s:\n",
    "        if char in contagem:\n",
    "            contagem[char] += 1\n",
    "        else:\n",
    "            contagem[char] = 1\n",
    "    return contagem\n",
    "\n",
    "# Exemplo de uso\n",
    "frase = \"python programming\"\n",
    "resultado = contagem_caracteres(frase)\n",
    "print(resultado)\n"
   ]
  },
  {
   "cell_type": "code",
   "execution_count": null,
   "id": "0a258eba",
   "metadata": {},
   "outputs": [],
   "source": [
    "# Exemplo de uso:\n",
    "frase = \"python programming\"\n",
    "resultado = contagem_caracteres(frase)\n",
    "print(resultado)"
   ]
  },
  {
   "cell_type": "markdown",
   "id": "649a5082",
   "metadata": {},
   "source": [
    "### Q2. \n",
    "\n",
    "Baixe o arquivo contendo o roteiro do filme brasileiro \"Estômago\" e salve em seu computador com o nome \"estomago.txt\".\n",
    "\n",
    "https://aplauso.imprensaoficial.com.br/edicoes/12.0.813.502/12.0.813.502.txt\n",
    "\n",
    "- Escreva um script python que abre o arquivo de texto e cria um dicionário contando a quantidade de vezes que cada palavra aparece no texto.\n",
    "- Em seguida ordene o dicionário de forma decrescente pelos valores. Dessa maneira ele irá apresentar as palavras mais frequentes no início.\n",
    "- Apresente na tela o dicionário ordenado\n"
   ]
  },
  {
   "cell_type": "code",
   "execution_count": null,
   "id": "47cb0573",
   "metadata": {},
   "outputs": [],
   "source": [
    "# Implemente aqui sua solução\n",
    "import requests\n",
    "\n",
    "# URL do arquivo de texto\n",
    "url = \"https://aplauso.imprensaoficial.com.br/edicoes/12.0.813.502/12.0.813.502.txt\"\n",
    "\n",
    "# Fazendo o download do arquivo\n",
    "response = requests.get(url)\n",
    "\n",
    "# Salvando o arquivo como \"estomago.txt\"\n",
    "with open(\"estomago.txt\", \"w\", encoding=\"utf-8\") as file:\n",
    "    file.write(response.text)\n",
    "\n",
    "print(\"Arquivo baixado e salvo como estomago.txt\")\n",
    "\n",
    "# Abrindo o arquivo e lendo seu conteúdo\n",
    "with open(\"estomago.txt\", \"r\", encoding=\"utf-8\") as file:\n",
    "    texto = file.read()\n",
    "\n",
    "# Importando as bibliotecas necessárias\n",
    "import re\n",
    "from collections import Counter\n",
    "\n",
    "# Removendo pontuações e convertendo o texto para minúsculas\n",
    "palavras = re.findall(r'\\b\\w+\\b', texto.lower())\n",
    "\n",
    "# Contando a frequência de cada palavra\n",
    "contador_palavras = Counter(palavras)\n",
    "\n",
    "# Ordenando o dicionário pela frequência de palavras em ordem decrescente\n",
    "contador_ordenado = dict(sorted(contador_palavras.items(), key=lambda item: item[1], reverse=True))\n",
    "\n",
    "# Apresentando o dicionário ordenado na tela\n",
    "print(contador_ordenado)\n"
   ]
  },
  {
   "cell_type": "markdown",
   "id": "bb62d219",
   "metadata": {},
   "source": [
    "### Q3. \n",
    "\n",
    "Crie uma função chamada ```mesclar_dicionarios``` que recebe dois dicionários como parâmetros e retorna um novo dicionário contendo a fusão dos dois. Se houver chaves comuns, o maior valor deve prevalecer."
   ]
  },
  {
   "cell_type": "code",
   "execution_count": null,
   "id": "f4363612",
   "metadata": {},
   "outputs": [],
   "source": [
    "# Implemente aqui a função mesclar_dicionarios\n",
    "def mesclar_dicionarios(dicionario1, dicionario2):\n",
    "    # Inicializa o dicionário resultante com os itens do primeiro dicionário\n",
    "    dicionario_resultante = dicionario1.copy()\n",
    "    \n",
    "    # Itera pelos itens do segundo dicionário\n",
    "    for chave, valor in dicionario2.items():\n",
    "        # Se a chave já existir no dicionário resultante, mantém o maior valor\n",
    "        if chave in dicionario_resultante:\n",
    "            dicionario_resultante[chave] = max(dicionario_resultante[chave], valor)\n",
    "        else:\n",
    "            # Se a chave não existir, adiciona a chave e valor ao dicionário resultante\n",
    "            dicionario_resultante[chave] = valor\n",
    "    \n",
    "    return dicionario_resultante\n"
   ]
  },
  {
   "cell_type": "code",
   "execution_count": null,
   "id": "add41556",
   "metadata": {},
   "outputs": [],
   "source": [
    "# Exemplo de uso:\n",
    "dicionario1 = {'a': 1, 'b': 2, 'c': 3}\n",
    "dicionario2 = {'b': 4, 'd': 5}\n",
    "resultado = mesclar_dicionarios(dicionario1, dicionario2)\n",
    "print(resultado)\n",
    "# Saída esperada: {'a': 1, 'b': 4, 'c': 3, 'd': 5}"
   ]
  },
  {
   "cell_type": "markdown",
   "id": "8710b1a7",
   "metadata": {},
   "source": [
    "### Q4.\n",
    "\n",
    "Desenvolva uma função em Python chamada ```filtrar_dicionario``` que recebe um dicionário e uma lista de chaves como parâmetros e retorna um novo dicionário contendo apenas as chaves que estão presentes na lista."
   ]
  },
  {
   "cell_type": "code",
   "execution_count": null,
   "id": "0b7ee921",
   "metadata": {},
   "outputs": [],
   "source": [
    "# Implemente aqui a função filtrar_dicionario\n",
    "def filtrar_dicionario(dicionario, lista_chaves):\n",
    "    # Inicializa o novo dicionário filtrado\n",
    "    dicionario_filtrado = {}\n",
    "    \n",
    "    # Itera sobre a lista de chaves e adiciona ao dicionário filtrado se a chave estiver no dicionário original\n",
    "    for chave in lista_chaves:\n",
    "        if chave in dicionario:\n",
    "            dicionario_filtrado[chave] = dicionario[chave]\n",
    "    \n",
    "    return dicionario_filtrado\n",
    "\n"
   ]
  },
  {
   "cell_type": "code",
   "execution_count": null,
   "id": "ebc131f6",
   "metadata": {},
   "outputs": [],
   "source": [
    "# Exemplo de uso:\n",
    "dicionario1 = {'a': 1, 'b': 2, 'c': 3}\n",
    "dicionario2 = {'b': 4, 'd': 5}\n",
    "resultado = mesclar_dicionarios(dicionario1, dicionario2)\n",
    "print(resultado)\n",
    "# Saída esperada: {'a': 1, 'b': 4, 'c': 3, 'd': 5}"
   ]
  },
  {
   "cell_type": "markdown",
   "id": "3203c51e",
   "metadata": {},
   "source": [
    "### Q5.\n",
    "\n",
    "Você está responsável por analisar os resultados de uma votação. Cada voto é representado por um dicionário com o nome do candidato e a quantidade de votos que recebeu em uma determinada sessão eleitoral. Escreva uma função chamada ```resultado_votacao``` que recebe uma lista de dicionários de votos e retorna um dicionário onde as chaves são os nomes dos candidatos, e os valores são tuplas ```(total, percentual)``` com o total de votos recebidos por cada candidato e o percentual em relação à soma total de votos em todos os candidatos. "
   ]
  },
  {
   "cell_type": "code",
   "execution_count": null,
   "id": "2c856eee",
   "metadata": {},
   "outputs": [],
   "source": [
    "# Implemente aqui a função resultado_votacao\n",
    "def resultado_votacao(votos):\n",
    "    # Dicionário para armazenar o total de votos por candidato\n",
    "    total_votos_candidatos = {}\n",
    "    \n",
    "    # Calculando o total de votos por candidato\n",
    "    for sessao in votos:\n",
    "        for candidato, qtd_votos in sessao.items():\n",
    "            if candidato in total_votos_candidatos:\n",
    "                total_votos_candidatos[candidato] += qtd_votos\n",
    "            else:\n",
    "                total_votos_candidatos[candidato] = qtd_votos\n",
    "    \n",
    "    # Calculando o total de votos em todas as sessões eleitorais\n",
    "    total_votos = sum(total_votos_candidatos.values())\n",
    "    \n",
    "    # Dicionário para armazenar o resultado final\n",
    "    resultado = {}\n",
    "    \n",
    "    # Calculando o percentual de votos para cada candidato\n",
    "    for candidato, total in total_votos_candidatos.items():\n",
    "        percentual = (total / total_votos) * 100\n",
    "        resultado[candidato] = (total, round(percentual, 2))\n",
    "    \n",
    "    return resultado\n"
   ]
  },
  {
   "cell_type": "code",
   "execution_count": null,
   "id": "ff2044de",
   "metadata": {},
   "outputs": [],
   "source": [
    "# Exemplo de uso:\n",
    "votos = [\n",
    "    {'candidato_A': 120, 'candidato_B': 85, 'candidato_C': 90},\n",
    "    {'candidato_A': 110, 'candidato_B': 95, 'candidato_C': 80},\n",
    "    {'candidato_A': 130, 'candidato_B': 78, 'candidato_C': 105},\n",
    "]\n",
    "resultado = resultado_votacao(votos)\n",
    "print(resultado)  # Saída esperada: {'candidato_A': (360, 40.31), 'candidato_B': (258, 28.89), \n",
    "                                ###  'candidato_C': (275, 30.79)}"
   ]
  }
 ],
 "metadata": {
  "kernelspec": {
   "display_name": "Python 3 (ipykernel)",
   "language": "python",
   "name": "python3"
  },
  "language_info": {
   "codemirror_mode": {
    "name": "ipython",
    "version": 3
   },
   "file_extension": ".py",
   "mimetype": "text/x-python",
   "name": "python",
   "nbconvert_exporter": "python",
   "pygments_lexer": "ipython3",
   "version": "3.9.6"
  }
 },
 "nbformat": 4,
 "nbformat_minor": 5
}
